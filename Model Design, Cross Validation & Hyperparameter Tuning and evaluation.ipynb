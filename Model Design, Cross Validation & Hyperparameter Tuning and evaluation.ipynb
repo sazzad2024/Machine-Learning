{
 "cells": [
  {
   "cell_type": "markdown",
   "id": "d77bfc5d-a459-4bfc-a1c5-33af1fb2b084",
   "metadata": {},
   "source": [
    "# **Dataset Load and Dataset Summary**"
   ]
  },
  {
   "cell_type": "code",
   "execution_count": 2,
   "id": "7f0d2ed6-9d1a-41e8-8e16-234ef0caaef6",
   "metadata": {},
   "outputs": [
    {
     "data": {
      "text/html": [
       "<div>\n",
       "<style scoped>\n",
       "    .dataframe tbody tr th:only-of-type {\n",
       "        vertical-align: middle;\n",
       "    }\n",
       "\n",
       "    .dataframe tbody tr th {\n",
       "        vertical-align: top;\n",
       "    }\n",
       "\n",
       "    .dataframe thead th {\n",
       "        text-align: right;\n",
       "    }\n",
       "</style>\n",
       "<table border=\"1\" class=\"dataframe\">\n",
       "  <thead>\n",
       "    <tr style=\"text-align: right;\">\n",
       "      <th></th>\n",
       "      <th>FlowPattern</th>\n",
       "      <th>Vsl</th>\n",
       "      <th>Vsg</th>\n",
       "      <th>VisL</th>\n",
       "      <th>VisG</th>\n",
       "      <th>DenL</th>\n",
       "      <th>DenG</th>\n",
       "      <th>ST</th>\n",
       "      <th>Ang</th>\n",
       "      <th>ID</th>\n",
       "    </tr>\n",
       "  </thead>\n",
       "  <tbody>\n",
       "    <tr>\n",
       "      <th>0</th>\n",
       "      <td>1</td>\n",
       "      <td>6.3</td>\n",
       "      <td>0.025</td>\n",
       "      <td>0.001</td>\n",
       "      <td>0.00002</td>\n",
       "      <td>1000</td>\n",
       "      <td>1.8</td>\n",
       "      <td>0.07</td>\n",
       "      <td>0.0</td>\n",
       "      <td>0.051</td>\n",
       "    </tr>\n",
       "    <tr>\n",
       "      <th>1</th>\n",
       "      <td>1</td>\n",
       "      <td>4.0</td>\n",
       "      <td>0.040</td>\n",
       "      <td>0.001</td>\n",
       "      <td>0.00002</td>\n",
       "      <td>1000</td>\n",
       "      <td>1.8</td>\n",
       "      <td>0.07</td>\n",
       "      <td>0.0</td>\n",
       "      <td>0.051</td>\n",
       "    </tr>\n",
       "    <tr>\n",
       "      <th>2</th>\n",
       "      <td>1</td>\n",
       "      <td>6.3</td>\n",
       "      <td>0.040</td>\n",
       "      <td>0.001</td>\n",
       "      <td>0.00002</td>\n",
       "      <td>1000</td>\n",
       "      <td>1.8</td>\n",
       "      <td>0.07</td>\n",
       "      <td>0.0</td>\n",
       "      <td>0.051</td>\n",
       "    </tr>\n",
       "    <tr>\n",
       "      <th>3</th>\n",
       "      <td>1</td>\n",
       "      <td>4.0</td>\n",
       "      <td>0.063</td>\n",
       "      <td>0.001</td>\n",
       "      <td>0.00002</td>\n",
       "      <td>1000</td>\n",
       "      <td>1.8</td>\n",
       "      <td>0.07</td>\n",
       "      <td>0.0</td>\n",
       "      <td>0.051</td>\n",
       "    </tr>\n",
       "    <tr>\n",
       "      <th>4</th>\n",
       "      <td>1</td>\n",
       "      <td>6.3</td>\n",
       "      <td>0.063</td>\n",
       "      <td>0.001</td>\n",
       "      <td>0.00002</td>\n",
       "      <td>1000</td>\n",
       "      <td>1.8</td>\n",
       "      <td>0.07</td>\n",
       "      <td>0.0</td>\n",
       "      <td>0.051</td>\n",
       "    </tr>\n",
       "  </tbody>\n",
       "</table>\n",
       "</div>"
      ],
      "text/plain": [
       "   FlowPattern  Vsl    Vsg   VisL     VisG  DenL  DenG    ST  Ang     ID\n",
       "0            1  6.3  0.025  0.001  0.00002  1000   1.8  0.07  0.0  0.051\n",
       "1            1  4.0  0.040  0.001  0.00002  1000   1.8  0.07  0.0  0.051\n",
       "2            1  6.3  0.040  0.001  0.00002  1000   1.8  0.07  0.0  0.051\n",
       "3            1  4.0  0.063  0.001  0.00002  1000   1.8  0.07  0.0  0.051\n",
       "4            1  6.3  0.063  0.001  0.00002  1000   1.8  0.07  0.0  0.051"
      ]
     },
     "metadata": {},
     "output_type": "display_data"
    },
    {
     "data": {
      "text/html": [
       "<div>\n",
       "<style scoped>\n",
       "    .dataframe tbody tr th:only-of-type {\n",
       "        vertical-align: middle;\n",
       "    }\n",
       "\n",
       "    .dataframe tbody tr th {\n",
       "        vertical-align: top;\n",
       "    }\n",
       "\n",
       "    .dataframe thead th {\n",
       "        text-align: right;\n",
       "    }\n",
       "</style>\n",
       "<table border=\"1\" class=\"dataframe\">\n",
       "  <thead>\n",
       "    <tr style=\"text-align: right;\">\n",
       "      <th></th>\n",
       "      <th>FlowPattern</th>\n",
       "      <th>Vsl</th>\n",
       "      <th>Vsg</th>\n",
       "      <th>VisL</th>\n",
       "      <th>VisG</th>\n",
       "      <th>DenL</th>\n",
       "      <th>DenG</th>\n",
       "      <th>ST</th>\n",
       "      <th>Ang</th>\n",
       "      <th>ID</th>\n",
       "    </tr>\n",
       "  </thead>\n",
       "  <tbody>\n",
       "    <tr>\n",
       "      <th>5670</th>\n",
       "      <td>5</td>\n",
       "      <td>2.70096</td>\n",
       "      <td>15.8561</td>\n",
       "      <td>0.001</td>\n",
       "      <td>0.00002</td>\n",
       "      <td>1000</td>\n",
       "      <td>1.8</td>\n",
       "      <td>0.07</td>\n",
       "      <td>-80.0</td>\n",
       "      <td>0.025</td>\n",
       "    </tr>\n",
       "    <tr>\n",
       "      <th>5671</th>\n",
       "      <td>5</td>\n",
       "      <td>1.58784</td>\n",
       "      <td>15.8394</td>\n",
       "      <td>0.001</td>\n",
       "      <td>0.00002</td>\n",
       "      <td>1000</td>\n",
       "      <td>1.8</td>\n",
       "      <td>0.07</td>\n",
       "      <td>-80.0</td>\n",
       "      <td>0.025</td>\n",
       "    </tr>\n",
       "    <tr>\n",
       "      <th>5672</th>\n",
       "      <td>5</td>\n",
       "      <td>1.05338</td>\n",
       "      <td>16.0692</td>\n",
       "      <td>0.001</td>\n",
       "      <td>0.00002</td>\n",
       "      <td>1000</td>\n",
       "      <td>1.8</td>\n",
       "      <td>0.07</td>\n",
       "      <td>-80.0</td>\n",
       "      <td>0.025</td>\n",
       "    </tr>\n",
       "    <tr>\n",
       "      <th>5673</th>\n",
       "      <td>5</td>\n",
       "      <td>1.05397</td>\n",
       "      <td>25.7439</td>\n",
       "      <td>0.001</td>\n",
       "      <td>0.00002</td>\n",
       "      <td>1000</td>\n",
       "      <td>1.8</td>\n",
       "      <td>0.07</td>\n",
       "      <td>-80.0</td>\n",
       "      <td>0.025</td>\n",
       "    </tr>\n",
       "    <tr>\n",
       "      <th>5674</th>\n",
       "      <td>5</td>\n",
       "      <td>1.66789</td>\n",
       "      <td>26.1616</td>\n",
       "      <td>0.001</td>\n",
       "      <td>0.00002</td>\n",
       "      <td>1000</td>\n",
       "      <td>1.8</td>\n",
       "      <td>0.07</td>\n",
       "      <td>-80.0</td>\n",
       "      <td>0.025</td>\n",
       "    </tr>\n",
       "  </tbody>\n",
       "</table>\n",
       "</div>"
      ],
      "text/plain": [
       "      FlowPattern      Vsl      Vsg   VisL     VisG  DenL  DenG    ST   Ang  \\\n",
       "5670            5  2.70096  15.8561  0.001  0.00002  1000   1.8  0.07 -80.0   \n",
       "5671            5  1.58784  15.8394  0.001  0.00002  1000   1.8  0.07 -80.0   \n",
       "5672            5  1.05338  16.0692  0.001  0.00002  1000   1.8  0.07 -80.0   \n",
       "5673            5  1.05397  25.7439  0.001  0.00002  1000   1.8  0.07 -80.0   \n",
       "5674            5  1.66789  26.1616  0.001  0.00002  1000   1.8  0.07 -80.0   \n",
       "\n",
       "         ID  \n",
       "5670  0.025  \n",
       "5671  0.025  \n",
       "5672  0.025  \n",
       "5673  0.025  \n",
       "5674  0.025  "
      ]
     },
     "metadata": {},
     "output_type": "display_data"
    },
    {
     "data": {
      "image/png": "[encoded data removed]",
      "text/plain": [
       "<Figure size 1440x576 with 1 Axes>"
      ]
     },
     "metadata": {
      "needs_background": "light"
     },
     "output_type": "display_data"
    }
   ],
   "source": [
    "import pandas as pd\n",
    "import numpy as np\n",
    "import matplotlib.pyplot as plt\n",
    "import seaborn as sns\n",
    "from IPython.display import display\n",
    "\n",
    "# Load the dataset\n",
    "df = pd.read_csv(\"BDOShoham.csv\")\n",
    "\n",
    "\n",
    "display(df.head(5))\n",
    "display(df.tail(5))\n",
    "\n",
    "plt.figure(figsize=(20, 8))\n",
    "sns.boxplot(data=df, orient=\"v\", palette=\"Set2\")\n",
    "plt.title(\"Box Plot - Dataset Summary\")\n",
    "plt.xlabel(\"Values\")\n",
    "plt.ylabel(\"Features\")\n",
    "plt.show()\n"
   ]
  },
  {
   "cell_type": "markdown",
   "id": "73b7f9e3-1550-40b7-a3e1-015767f751d7",
   "metadata": {},
   "source": [
    "# **Making Sub- Dataset**"
   ]
  },
  {
   "cell_type": "code",
   "execution_count": 3,
   "id": "ff01c488-4b92-4b7a-8a53-440d903f2a8a",
   "metadata": {},
   "outputs": [],
   "source": [
    "X = df[[\"Vsl\", \"Vsg\", \"Ang\"]]\n",
    "y = df[\"FlowPattern\"]\n"
   ]
  },
  {
   "cell_type": "code",
   "execution_count": 12,
   "id": "cd1bc67b-0e71-4074-a04c-d94215802d5c",
   "metadata": {},
   "outputs": [
    {
     "data": {
      "text/html": [
       "<div>\n",
       "<style scoped>\n",
       "    .dataframe tbody tr th:only-of-type {\n",
       "        vertical-align: middle;\n",
       "    }\n",
       "\n",
       "    .dataframe tbody tr th {\n",
       "        vertical-align: top;\n",
       "    }\n",
       "\n",
       "    .dataframe thead th {\n",
       "        text-align: right;\n",
       "    }\n",
       "</style>\n",
       "<table border=\"1\" class=\"dataframe\">\n",
       "  <thead>\n",
       "    <tr style=\"text-align: right;\">\n",
       "      <th></th>\n",
       "      <th>Vsl</th>\n",
       "      <th>Vsg</th>\n",
       "      <th>Ang</th>\n",
       "    </tr>\n",
       "  </thead>\n",
       "  <tbody>\n",
       "    <tr>\n",
       "      <th>0</th>\n",
       "      <td>6.3</td>\n",
       "      <td>0.025</td>\n",
       "      <td>0.0</td>\n",
       "    </tr>\n",
       "    <tr>\n",
       "      <th>1</th>\n",
       "      <td>4.0</td>\n",
       "      <td>0.040</td>\n",
       "      <td>0.0</td>\n",
       "    </tr>\n",
       "    <tr>\n",
       "      <th>2</th>\n",
       "      <td>6.3</td>\n",
       "      <td>0.040</td>\n",
       "      <td>0.0</td>\n",
       "    </tr>\n",
       "    <tr>\n",
       "      <th>3</th>\n",
       "      <td>4.0</td>\n",
       "      <td>0.063</td>\n",
       "      <td>0.0</td>\n",
       "    </tr>\n",
       "    <tr>\n",
       "      <th>4</th>\n",
       "      <td>6.3</td>\n",
       "      <td>0.063</td>\n",
       "      <td>0.0</td>\n",
       "    </tr>\n",
       "  </tbody>\n",
       "</table>\n",
       "</div>"
      ],
      "text/plain": [
       "   Vsl    Vsg  Ang\n",
       "0  6.3  0.025  0.0\n",
       "1  4.0  0.040  0.0\n",
       "2  6.3  0.040  0.0\n",
       "3  4.0  0.063  0.0\n",
       "4  6.3  0.063  0.0"
      ]
     },
     "execution_count": 12,
     "metadata": {},
     "output_type": "execute_result"
    }
   ],
   "source": [
    "X.head()"
   ]
  },
  {
   "cell_type": "markdown",
   "id": "dde9f84c-1649-4599-80a5-7efe5a6d6b90",
   "metadata": {},
   "source": [
    "# **Train Test Split**"
   ]
  },
  {
   "cell_type": "code",
   "execution_count": 4,
   "id": "43937d29-3047-4df4-b621-62480e487058",
   "metadata": {},
   "outputs": [],
   "source": [
    "from sklearn.model_selection import train_test_split\n",
    "X_train, X_test, y_train, y_test = train_test_split(X, y, test_size=0.2, random_state=42, stratify=y)\n",
    "\n"
   ]
  },
  {
   "cell_type": "code",
   "execution_count": 18,
   "id": "efd75664-6bca-4a07-a56d-63e01ea76d34",
   "metadata": {},
   "outputs": [
    {
     "name": "stdout",
     "output_type": "stream",
     "text": [
      "Training set size: (4540, 3) (4540,)\n",
      "Test set size: (1135, 3) (1135,)\n"
     ]
    }
   ],
   "source": [
    "print(\"Training set size:\", X_train.shape, y_train.shape)\n",
    "print(\"Test set size:\", X_test.shape, y_test.shape)\n"
   ]
  },
  {
   "cell_type": "markdown",
   "id": "aa0310e8-2e65-4db8-b846-ecc70ac927b7",
   "metadata": {},
   "source": [
    "# **Train and Test with k-NN & logistic regression Models**"
   ]
  },
  {
   "cell_type": "code",
   "execution_count": 5,
   "id": "7630da04-502b-4b47-83a1-7e73432b7fe2",
   "metadata": {},
   "outputs": [
    {
     "name": "stdout",
     "output_type": "stream",
     "text": [
      "\n",
      "k-NN (n_neighbors=7, weights=distance, metric=euclidean) Performance on Test Set:\n",
      "Accuracy: 0.8599\n",
      "Precision (Weighted): 0.8627\n",
      "Recall (Macro): 0.8187\n",
      "F1 Score: 0.8263\n",
      "\n",
      "Logistic Regression (C=1.0, penalty=l2) Performance on Test Set:\n",
      "Accuracy: 0.6573\n",
      "Precision (Weighted): 0.6230\n",
      "Recall (Macro): 0.4784\n",
      "F1 Score: 0.5009\n"
     ]
    }
   ],
   "source": [
    "from sklearn.model_selection import train_test_split, GridSearchCV\n",
    "from sklearn.neighbors import KNeighborsClassifier\n",
    "from sklearn.linear_model import LogisticRegression\n",
    "from sklearn.metrics import accuracy_score, precision_score, recall_score, f1_score\n",
    "\n",
    "\n",
    "# Define hyperparameters for k-NN\n",
    "knn_params = {\n",
    "    'n_neighbors': 7,  # Optimal number of neighbors from GridSearchCV\n",
    "    'weights': 'distance',  # Uniform or Distance\n",
    "    'metric': 'euclidean'  # Euclidean or Manhattan\n",
    "}\n",
    "\n",
    "# Define hyperparameters for Logistic Regression\n",
    "log_reg_params = {\n",
    "    'C': 1.0,  # Regularization strength (inverse)\n",
    "    'penalty': 'l2',  # L1 or L2 regularization\n",
    "    'solver': 'lbfgs'  # Optimization algorithm\n",
    "}\n",
    "\n",
    "# Train k-NN with hyperparameters\n",
    "knn = KNeighborsClassifier(**knn_params)\n",
    "knn.fit(X_train, y_train)\n",
    "\n",
    "# Train Logistic Regression with hyperparameters\n",
    "log_reg = LogisticRegression(**log_reg_params, max_iter=5000)\n",
    "log_reg.fit(X_train, y_train)\n",
    "\n",
    "# Predict on the test set\n",
    "y_pred_knn = knn.predict(X_test)\n",
    "y_pred_log_reg = log_reg.predict(X_test)\n",
    "\n",
    "# Define evaluation function\n",
    "def evaluate_model(y_true, y_pred, model_name):\n",
    "    print(f\"\\n{model_name} Performance on Test Set:\")\n",
    "    print(f\"Accuracy: {accuracy_score(y_true, y_pred):.4f}\")\n",
    "    print(f\"Precision (Weighted): {precision_score(y_true, y_pred, average='weighted', zero_division=0):.4f}\")\n",
    "    print(f\"Recall (Macro): {recall_score(y_true, y_pred, average='macro', zero_division=0):.4f}\")\n",
    "    print(f\"F1 Score: {f1_score(y_true, y_pred, average='macro'):.4f}\")\n",
    "\n",
    "# Evaluate both models\n",
    "evaluate_model(y_test, y_pred_knn, f\"k-NN (n_neighbors={knn_params['n_neighbors']}, weights={knn_params['weights']}, metric={knn_params['metric']})\")\n",
    "evaluate_model(y_test, y_pred_log_reg, f\"Logistic Regression (C={log_reg_params['C']}, penalty={log_reg_params['penalty']})\")\n",
    "\n"
   ]
  },
  {
   "cell_type": "markdown",
   "id": "22cf1b45-2bd8-4626-bf87-32589acddfa6",
   "metadata": {},
   "source": [
    "# **Cross validation using Training Data**"
   ]
  },
  {
   "cell_type": "code",
   "execution_count": 18,
   "id": "3e3bc3bb-0e20-4e50-a91c-ada1066e9061",
   "metadata": {},
   "outputs": [
    {
     "name": "stdout",
     "output_type": "stream",
     "text": [
      "[0.84030837 0.82268722 0.84581498 0.81828194 0.84140969]\n",
      "[0.84487128 0.82933882 0.84976061 0.83073701 0.84730027]\n",
      "[0.83080499 0.78100128 0.79943216 0.78634577 0.81750658]\n",
      "[0.81135187 0.76012495 0.78576714 0.77597348 0.81008246]\n",
      "[0.67511013 0.66079295 0.66079295 0.64537445 0.67400881]\n",
      "[0.63942309 0.63203022 0.62344246 0.59488813 0.62817406]\n",
      "[0.46330511 0.43612892 0.46369613 0.45484456 0.49664067]\n",
      "[0.48240484 0.46107129 0.47805808 0.4575912  0.51595496]\n",
      "KNN Results:\n",
      " {'accuracy': 0.8337004405286343, 'precision_weighted': 0.84040159732258, 'recall_macro': 0.8030181563115123, 'f1_macro': 0.7886599814166277}\n",
      "Logistic Regression Results:\n",
      " {'accuracy': 0.663215859030837, 'precision_weighted': 0.6235915917097874, 'recall_macro': 0.46292307825017476, 'f1_macro': 0.4790160744318353}\n"
     ]
    }
   ],
   "source": [
    "from sklearn.model_selection import cross_val_score\n",
    "from sklearn.metrics import make_scorer, accuracy_score, precision_score, recall_score, f1_score\n",
    "\n",
    "# Define scoring metrics with zero_division handling\n",
    "scoring_metrics = {\n",
    "    \"accuracy\": make_scorer(accuracy_score),\n",
    "    \"precision_weighted\": make_scorer(precision_score, average=\"weighted\", zero_division=0),\n",
    "    \"recall_macro\": make_scorer(recall_score, average=\"macro\", zero_division=0),\n",
    "    \"f1_macro\": make_scorer(f1_score, average=\"macro\")\n",
    "}\n",
    "\n",
    "def cross_validate_model(model, X_train, y_train, scoring):\n",
    "    results = {}\n",
    "    for metric_name, scorer in scoring.items():\n",
    "        scores = cross_val_score(model, X_train, y_train, cv=5, scoring=scorer)\n",
    "        print (scores)\n",
    "        results[metric_name] = np.mean(scores)\n",
    "    return results\n",
    "\n",
    "# Perform cross-validation\n",
    "knn_results = cross_validate_model(knn, X_train, y_train, scoring_metrics)\n",
    "log_reg_results = cross_validate_model(log_reg, X_train, y_train, scoring_metrics)\n",
    "\n",
    "print(\"KNN Results:\\n\",knn_results)\n",
    "print(\"Logistic Regression Results:\\n\",log_reg_results)\n"
   ]
  },
  {
   "cell_type": "markdown",
   "id": "32d64db9-2475-45db-a355-bb960667e80d",
   "metadata": {},
   "source": [
    "# **Choosing Best Hyperparameters of K-NN using GridSearchCV()**"
   ]
  },
  {
   "cell_type": "code",
   "execution_count": 6,
   "id": "eccb7ff8-36da-475c-ae00-1b823c4faa80",
   "metadata": {},
   "outputs": [
    {
     "name": "stdout",
     "output_type": "stream",
     "text": [
      "Best Hyperparameters: {'metric': 'manhattan', 'n_neighbors': 3, 'weights': 'distance'}\n",
      "Best Cross-Validation Accuracy: 0.8599118942731276\n"
     ]
    }
   ],
   "source": [
    "from sklearn.model_selection import GridSearchCV\n",
    "\n",
    "\n",
    "\n",
    "# Define the parameter grid\n",
    "param_grid = {\n",
    "    'n_neighbors': [3, 5, 7, 9, 11],  # Different values for number of neighbors\n",
    "    'weights': ['uniform', 'distance'],  # Different strategies for weight assignment\n",
    "    'metric': ['euclidean', 'manhattan']  # Different distance metrics\n",
    "}\n",
    "\n",
    "# Set up GridSearchCV\n",
    "grid_search = GridSearchCV(estimator=knn, param_grid=param_grid, cv=5, scoring='accuracy')\n",
    "\n",
    "# Perform the grid search\n",
    "grid_search.fit(X_train, y_train)\n",
    "\n",
    "# Print the best parameters and best score from the grid search\n",
    "print(f\"Best Hyperparameters: {grid_search.best_params_}\")\n",
    "print(f\"Best Cross-Validation Accuracy: {grid_search.best_score_}\")\n",
    "\n",
    "\n"
   ]
  },
  {
   "cell_type": "markdown",
   "id": "8761be76-d867-47b9-88be-4e0f7f1c63db",
   "metadata": {},
   "source": [
    "# **Evaluating Model Performance (K-NN) on Test data Using Best Hyperparameters**"
   ]
  },
  {
   "cell_type": "code",
   "execution_count": 13,
   "id": "297aa347-c88c-46fb-8c49-f3c991e039d3",
   "metadata": {},
   "outputs": [
    {
     "name": "stdout",
     "output_type": "stream",
     "text": [
      "Test Accuracy with Optimized Hyperparameters: 0.8731277533039647\n"
     ]
    }
   ],
   "source": [
    "# Evaluate the model with the best hyperparameters on the test set\n",
    "best_knn = grid_search.best_estimator_\n",
    "y_pred = best_knn.predict(X_test)\n",
    "test_accuracy = accuracy_score(y_test, y_pred)\n",
    "\n",
    "print(f\"Test Accuracy with Optimized Hyperparameters: {test_accuracy}\")\n"
   ]
  },
  {
   "cell_type": "markdown",
   "id": "b563e795-750b-48aa-b81b-2b7c4f473d7d",
   "metadata": {},
   "source": [
    "### Without using best hyperparameters K-NN accuracy was 0.8599 on test data,but after using best hyperparameters (through GridSearchCV) K-NN accuracy is 0.8731 on test data.So,finding/choosing the best hyperparameters settings improves the model performance."
   ]
  },
  {
   "cell_type": "code",
   "execution_count": null,
   "id": "13b4bec1-c257-4412-94cc-9b6f3930e793",
   "metadata": {},
   "outputs": [],
   "source": []
  }
 ],
 "metadata": {
  "kernelspec": {
   "display_name": "Python-3.9",
   "language": "python",
   "name": "python3.9"
  },
  "language_info": {
   "codemirror_mode": {
    "name": "ipython",
    "version": 3
   },
   "file_extension": ".py",
   "mimetype": "text/x-python",
   "name": "python",
   "nbconvert_exporter": "python",
   "pygments_lexer": "ipython3",
   "version": "3.9.12"
  }
 },
 "nbformat": 4,
 "nbformat_minor": 5
}
